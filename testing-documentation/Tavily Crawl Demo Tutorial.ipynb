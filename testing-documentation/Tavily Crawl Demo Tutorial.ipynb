{
 "cells": [
  {
   "cell_type": "raw",
   "metadata": {
    "vscode": {
     "languageId": "raw"
    }
   },
   "source": [
    "# 🤖 TavilyCrawl Tutorial: Intelligent Documentation Discovery\n",
    "\n",
    "> **📚 Part of the LangChain Course: Building AI Agents & RAG Apps**  \n",
    "> [🎓 Get the full course](https://www.udemy.com/course/langchain/?referralCode=D981B8213164A3EA91AC)\n",
    "\n",
    "This notebook demonstrates the power of **TavilyCrawl** - Tavily's most intelligent web crawling tool that:\n",
    "- 🕷️ **Crawls intelligently** using graph-based traversal with parallel exploration\n",
    "- 🧠 **Understands instructions** and filters content based on your specific needs\n",
    "- 🎯 **Finds exactly what you need** without manual filtering or post-processing\n",
    "- ⚡ **Processes hundreds of pages** efficiently with built-in content extraction\n",
    "\n",
    "**Perfect for targeted documentation discovery, research, and intelligent content collection!** 🚀\n",
    "\n",
    "---\n"
   ]
  },
  {
   "cell_type": "raw",
   "metadata": {
    "vscode": {
     "languageId": "raw"
    }
   },
   "source": [
    "## 📦 Setup & Installation\n",
    "\n",
    "First, let's install the required packages and set up our environment.\n"
   ]
  },
  {
   "cell_type": "code",
   "execution_count": 22,
   "metadata": {
    "ExecuteTime": {
     "end_time": "2025-09-24T15:06:40.629886Z",
     "start_time": "2025-09-24T15:06:38.468360Z"
    }
   },
   "outputs": [
    {
     "name": "stdout",
     "output_type": "stream",
     "text": [
      "Requirement already satisfied: langchain-tavily in c:\\users\\farahrefaai\\.virtualenvs\\testing-documentation-7m5xrcqg\\lib\\site-packages (0.2.11)\n",
      "Requirement already satisfied: certifi in c:\\users\\farahrefaai\\.virtualenvs\\testing-documentation-7m5xrcqg\\lib\\site-packages (2025.8.3)\n",
      "Requirement already satisfied: aiohttp<4.0.0,>=3.11.14 in c:\\users\\farahrefaai\\.virtualenvs\\testing-documentation-7m5xrcqg\\lib\\site-packages (from langchain-tavily) (3.12.15)\n",
      "Requirement already satisfied: langchain<0.4.0,>=0.3.20 in c:\\users\\farahrefaai\\.virtualenvs\\testing-documentation-7m5xrcqg\\lib\\site-packages (from langchain-tavily) (0.3.27)\n",
      "Requirement already satisfied: langchain-core<0.4.0,>=0.3.15 in c:\\users\\farahrefaai\\.virtualenvs\\testing-documentation-7m5xrcqg\\lib\\site-packages (from langchain-tavily) (0.3.76)\n",
      "Requirement already satisfied: requests<3.0.0,>=2.32.3 in c:\\users\\farahrefaai\\.virtualenvs\\testing-documentation-7m5xrcqg\\lib\\site-packages (from langchain-tavily) (2.32.5)\n",
      "Requirement already satisfied: aiohappyeyeballs>=2.5.0 in c:\\users\\farahrefaai\\.virtualenvs\\testing-documentation-7m5xrcqg\\lib\\site-packages (from aiohttp<4.0.0,>=3.11.14->langchain-tavily) (2.6.1)\n",
      "Requirement already satisfied: aiosignal>=1.4.0 in c:\\users\\farahrefaai\\.virtualenvs\\testing-documentation-7m5xrcqg\\lib\\site-packages (from aiohttp<4.0.0,>=3.11.14->langchain-tavily) (1.4.0)\n",
      "Requirement already satisfied: attrs>=17.3.0 in c:\\users\\farahrefaai\\.virtualenvs\\testing-documentation-7m5xrcqg\\lib\\site-packages (from aiohttp<4.0.0,>=3.11.14->langchain-tavily) (25.3.0)\n",
      "Requirement already satisfied: frozenlist>=1.1.1 in c:\\users\\farahrefaai\\.virtualenvs\\testing-documentation-7m5xrcqg\\lib\\site-packages (from aiohttp<4.0.0,>=3.11.14->langchain-tavily) (1.7.0)\n",
      "Requirement already satisfied: multidict<7.0,>=4.5 in c:\\users\\farahrefaai\\.virtualenvs\\testing-documentation-7m5xrcqg\\lib\\site-packages (from aiohttp<4.0.0,>=3.11.14->langchain-tavily) (6.6.4)\n",
      "Requirement already satisfied: propcache>=0.2.0 in c:\\users\\farahrefaai\\.virtualenvs\\testing-documentation-7m5xrcqg\\lib\\site-packages (from aiohttp<4.0.0,>=3.11.14->langchain-tavily) (0.3.2)\n",
      "Requirement already satisfied: yarl<2.0,>=1.17.0 in c:\\users\\farahrefaai\\.virtualenvs\\testing-documentation-7m5xrcqg\\lib\\site-packages (from aiohttp<4.0.0,>=3.11.14->langchain-tavily) (1.20.1)\n",
      "Requirement already satisfied: langchain-text-splitters<1.0.0,>=0.3.9 in c:\\users\\farahrefaai\\.virtualenvs\\testing-documentation-7m5xrcqg\\lib\\site-packages (from langchain<0.4.0,>=0.3.20->langchain-tavily) (0.3.11)\n",
      "Requirement already satisfied: langsmith>=0.1.17 in c:\\users\\farahrefaai\\.virtualenvs\\testing-documentation-7m5xrcqg\\lib\\site-packages (from langchain<0.4.0,>=0.3.20->langchain-tavily) (0.4.30)\n",
      "Requirement already satisfied: pydantic<3.0.0,>=2.7.4 in c:\\users\\farahrefaai\\.virtualenvs\\testing-documentation-7m5xrcqg\\lib\\site-packages (from langchain<0.4.0,>=0.3.20->langchain-tavily) (2.11.9)\n",
      "Requirement already satisfied: SQLAlchemy<3,>=1.4 in c:\\users\\farahrefaai\\.virtualenvs\\testing-documentation-7m5xrcqg\\lib\\site-packages (from langchain<0.4.0,>=0.3.20->langchain-tavily) (2.0.43)\n",
      "Requirement already satisfied: PyYAML>=5.3 in c:\\users\\farahrefaai\\.virtualenvs\\testing-documentation-7m5xrcqg\\lib\\site-packages (from langchain<0.4.0,>=0.3.20->langchain-tavily) (6.0.2)\n",
      "Requirement already satisfied: tenacity!=8.4.0,<10.0.0,>=8.1.0 in c:\\users\\farahrefaai\\.virtualenvs\\testing-documentation-7m5xrcqg\\lib\\site-packages (from langchain-core<0.4.0,>=0.3.15->langchain-tavily) (9.1.2)\n",
      "Requirement already satisfied: jsonpatch<2.0,>=1.33 in c:\\users\\farahrefaai\\.virtualenvs\\testing-documentation-7m5xrcqg\\lib\\site-packages (from langchain-core<0.4.0,>=0.3.15->langchain-tavily) (1.33)\n",
      "Requirement already satisfied: typing-extensions>=4.7 in c:\\users\\farahrefaai\\.virtualenvs\\testing-documentation-7m5xrcqg\\lib\\site-packages (from langchain-core<0.4.0,>=0.3.15->langchain-tavily) (4.15.0)\n",
      "Requirement already satisfied: packaging>=23.2 in c:\\users\\farahrefaai\\.virtualenvs\\testing-documentation-7m5xrcqg\\lib\\site-packages (from langchain-core<0.4.0,>=0.3.15->langchain-tavily) (24.2)\n",
      "Requirement already satisfied: jsonpointer>=1.9 in c:\\users\\farahrefaai\\.virtualenvs\\testing-documentation-7m5xrcqg\\lib\\site-packages (from jsonpatch<2.0,>=1.33->langchain-core<0.4.0,>=0.3.15->langchain-tavily) (3.0.0)\n",
      "Requirement already satisfied: annotated-types>=0.6.0 in c:\\users\\farahrefaai\\.virtualenvs\\testing-documentation-7m5xrcqg\\lib\\site-packages (from pydantic<3.0.0,>=2.7.4->langchain<0.4.0,>=0.3.20->langchain-tavily) (0.7.0)\n",
      "Requirement already satisfied: pydantic-core==2.33.2 in c:\\users\\farahrefaai\\.virtualenvs\\testing-documentation-7m5xrcqg\\lib\\site-packages (from pydantic<3.0.0,>=2.7.4->langchain<0.4.0,>=0.3.20->langchain-tavily) (2.33.2)\n",
      "Requirement already satisfied: typing-inspection>=0.4.0 in c:\\users\\farahrefaai\\.virtualenvs\\testing-documentation-7m5xrcqg\\lib\\site-packages (from pydantic<3.0.0,>=2.7.4->langchain<0.4.0,>=0.3.20->langchain-tavily) (0.4.1)\n",
      "Requirement already satisfied: charset_normalizer<4,>=2 in c:\\users\\farahrefaai\\.virtualenvs\\testing-documentation-7m5xrcqg\\lib\\site-packages (from requests<3.0.0,>=2.32.3->langchain-tavily) (3.4.3)\n",
      "Requirement already satisfied: idna<4,>=2.5 in c:\\users\\farahrefaai\\.virtualenvs\\testing-documentation-7m5xrcqg\\lib\\site-packages (from requests<3.0.0,>=2.32.3->langchain-tavily) (3.10)\n",
      "Requirement already satisfied: urllib3<3,>=1.21.1 in c:\\users\\farahrefaai\\.virtualenvs\\testing-documentation-7m5xrcqg\\lib\\site-packages (from requests<3.0.0,>=2.32.3->langchain-tavily) (2.5.0)\n",
      "Requirement already satisfied: greenlet>=1 in c:\\users\\farahrefaai\\.virtualenvs\\testing-documentation-7m5xrcqg\\lib\\site-packages (from SQLAlchemy<3,>=1.4->langchain<0.4.0,>=0.3.20->langchain-tavily) (3.2.4)\n",
      "Requirement already satisfied: httpx<1,>=0.23.0 in c:\\users\\farahrefaai\\.virtualenvs\\testing-documentation-7m5xrcqg\\lib\\site-packages (from langsmith>=0.1.17->langchain<0.4.0,>=0.3.20->langchain-tavily) (0.28.1)\n",
      "Requirement already satisfied: orjson>=3.9.14 in c:\\users\\farahrefaai\\.virtualenvs\\testing-documentation-7m5xrcqg\\lib\\site-packages (from langsmith>=0.1.17->langchain<0.4.0,>=0.3.20->langchain-tavily) (3.11.3)\n",
      "Requirement already satisfied: requests-toolbelt>=1.0.0 in c:\\users\\farahrefaai\\.virtualenvs\\testing-documentation-7m5xrcqg\\lib\\site-packages (from langsmith>=0.1.17->langchain<0.4.0,>=0.3.20->langchain-tavily) (1.0.0)\n",
      "Requirement already satisfied: zstandard>=0.23.0 in c:\\users\\farahrefaai\\.virtualenvs\\testing-documentation-7m5xrcqg\\lib\\site-packages (from langsmith>=0.1.17->langchain<0.4.0,>=0.3.20->langchain-tavily) (0.25.0)\n",
      "Requirement already satisfied: anyio in c:\\users\\farahrefaai\\.virtualenvs\\testing-documentation-7m5xrcqg\\lib\\site-packages (from httpx<1,>=0.23.0->langsmith>=0.1.17->langchain<0.4.0,>=0.3.20->langchain-tavily) (4.11.0)\n",
      "Requirement already satisfied: httpcore==1.* in c:\\users\\farahrefaai\\.virtualenvs\\testing-documentation-7m5xrcqg\\lib\\site-packages (from httpx<1,>=0.23.0->langsmith>=0.1.17->langchain<0.4.0,>=0.3.20->langchain-tavily) (1.0.9)\n",
      "Requirement already satisfied: h11>=0.16 in c:\\users\\farahrefaai\\.virtualenvs\\testing-documentation-7m5xrcqg\\lib\\site-packages (from httpcore==1.*->httpx<1,>=0.23.0->langsmith>=0.1.17->langchain<0.4.0,>=0.3.20->langchain-tavily) (0.16.0)\n",
      "Requirement already satisfied: sniffio>=1.1 in c:\\users\\farahrefaai\\.virtualenvs\\testing-documentation-7m5xrcqg\\lib\\site-packages (from anyio->httpx<1,>=0.23.0->langsmith>=0.1.17->langchain<0.4.0,>=0.3.20->langchain-tavily) (1.3.1)\n",
      "Note: you may need to restart the kernel to use updated packages.\n",
      "Requirement already satisfied: rich in c:\\users\\farahrefaai\\.virtualenvs\\testing-documentation-7m5xrcqg\\lib\\site-packages (14.1.0)\n",
      "Requirement already satisfied: pandas in c:\\users\\farahrefaai\\.virtualenvs\\testing-documentation-7m5xrcqg\\lib\\site-packages (2.3.2)\n",
      "Requirement already satisfied: markdown-it-py>=2.2.0 in c:\\users\\farahrefaai\\.virtualenvs\\testing-documentation-7m5xrcqg\\lib\\site-packages (from rich) (4.0.0)\n",
      "Requirement already satisfied: pygments<3.0.0,>=2.13.0 in c:\\users\\farahrefaai\\.virtualenvs\\testing-documentation-7m5xrcqg\\lib\\site-packages (from rich) (2.19.2)\n",
      "Requirement already satisfied: numpy>=1.26.0 in c:\\users\\farahrefaai\\.virtualenvs\\testing-documentation-7m5xrcqg\\lib\\site-packages (from pandas) (2.3.3)\n",
      "Requirement already satisfied: python-dateutil>=2.8.2 in c:\\users\\farahrefaai\\.virtualenvs\\testing-documentation-7m5xrcqg\\lib\\site-packages (from pandas) (2.9.0.post0)\n",
      "Requirement already satisfied: pytz>=2020.1 in c:\\users\\farahrefaai\\.virtualenvs\\testing-documentation-7m5xrcqg\\lib\\site-packages (from pandas) (2025.2)\n",
      "Requirement already satisfied: tzdata>=2022.7 in c:\\users\\farahrefaai\\.virtualenvs\\testing-documentation-7m5xrcqg\\lib\\site-packages (from pandas) (2025.2)\n",
      "Requirement already satisfied: mdurl~=0.1 in c:\\users\\farahrefaai\\.virtualenvs\\testing-documentation-7m5xrcqg\\lib\\site-packages (from markdown-it-py>=2.2.0->rich) (0.1.2)\n",
      "Requirement already satisfied: six>=1.5 in c:\\users\\farahrefaai\\.virtualenvs\\testing-documentation-7m5xrcqg\\lib\\site-packages (from python-dateutil>=2.8.2->pandas) (1.17.0)\n",
      "Note: you may need to restart the kernel to use updated packages.\n"
     ]
    }
   ],
   "source": [
    "# Install required packages\n",
    "%pip install langchain-tavily certifi\n",
    "\n",
    "# For pretty printing and visualization\n",
    "%pip install rich pandas\n"
   ]
  },
  {
   "cell_type": "code",
   "execution_count": 23,
   "metadata": {
    "ExecuteTime": {
     "end_time": "2025-09-24T15:06:40.847184Z",
     "start_time": "2025-09-24T15:06:40.637450Z"
    }
   },
   "outputs": [
    {
     "name": "stdout",
     "output_type": "stream",
     "text": [
      "✅ All imports successful!\n"
     ]
    }
   ],
   "source": [
    "import os\n",
    "import ssl\n",
    "from typing import Any, Dict, List\n",
    "\n",
    "import certifi\n",
    "from langchain_tavily import TavilyCrawl\n",
    "from rich.console import Console\n",
    "from rich.panel import Panel\n",
    "from rich.table import Table\n",
    "\n",
    "# Configure SSL context\n",
    "ssl_context = ssl.create_default_context(cafile=certifi.where())\n",
    "os.environ[\"SSL_CERT_FILE\"] = certifi.where()\n",
    "os.environ[\"REQUESTS_CA_BUNDLE\"] = certifi.where()\n",
    "\n",
    "# Initialize rich console for pretty printing\n",
    "console = Console()\n",
    "\n",
    "print(\"✅ All imports successful!\")\n"
   ]
  },
  {
   "cell_type": "raw",
   "metadata": {
    "vscode": {
     "languageId": "raw"
    }
   },
   "source": [
    "## 🔑 API Key Setup\n",
    "\n",
    "You'll need a Tavily API key to use TavilyCrawl. Get yours at [tavily.com](https://app.tavily.com/home).\n",
    "\n",
    "Set environment variable `TAVILY_API_KEY`\n"
   ]
  },
  {
   "cell_type": "code",
   "execution_count": 24,
   "metadata": {
    "ExecuteTime": {
     "end_time": "2025-09-24T15:06:40.869912Z",
     "start_time": "2025-09-24T15:06:40.867214Z"
    }
   },
   "outputs": [],
   "source": [
    "# Set directly (uncomment and add your key)\n",
    "# tavily_api_key = \"your_tavily_api_key_here\"\n",
    "\n",
    "os.environ[\"TAVILY_API_KEY\"] = \"your_tavily_api_key_here\"\n"
   ]
  },
  {
   "cell_type": "raw",
   "metadata": {
    "vscode": {
     "languageId": "raw"
    }
   },
   "source": [
    "## 🤖 What is TavilyCrawl?\n",
    "\n",
    "TavilyCrawl is Tavily's most advanced crawling tool that goes beyond simple URL discovery. Here's what makes it special:\n",
    "\n",
    "### 🧠 **Intelligent Understanding**\n",
    "- Takes natural language instructions\n",
    "- Understands context and intent\n",
    "- Filters content based on your specific needs\n",
    "\n",
    "### 🕷️ **Advanced Crawling**\n",
    "- Graph-based website traversal\n",
    "- Parallel exploration of hundreds of paths\n",
    "- Built-in content extraction and cleaning\n",
    "\n",
    "### 🎯 **Smart Filtering**\n",
    "- Only returns relevant content\n",
    "- Eliminates manual post-processing\n",
    "- Saves time and API calls\n",
    "\n",
    "Let's see it in action!\n"
   ]
  },
  {
   "cell_type": "code",
   "execution_count": 25,
   "metadata": {
    "ExecuteTime": {
     "end_time": "2025-09-24T15:06:40.890294Z",
     "start_time": "2025-09-24T15:06:40.887555Z"
    }
   },
   "outputs": [
    {
     "name": "stdout",
     "output_type": "stream",
     "text": [
      "✅ TavilyCrawl initialized successfully!\n"
     ]
    }
   ],
   "source": [
    "# Initialize TavilyCrawl\n",
    "tavily_crawl = TavilyCrawl()\n",
    "\n",
    "print(\"✅ TavilyCrawl initialized successfully!\")\n"
   ]
  },
  {
   "cell_type": "raw",
   "metadata": {
    "vscode": {
     "languageId": "raw"
    }
   },
   "source": [
    "## 🎯 Demo 1: TavilyCrawl Without Instructions\n",
    "\n",
    "Let's first see what happens when we use TavilyCrawl without any specific instructions. This will show us the baseline behavior.\n"
   ]
  },
  {
   "cell_type": "code",
   "execution_count": 26,
   "metadata": {
    "ExecuteTime": {
     "end_time": "2025-09-24T15:06:41.566551Z",
     "start_time": "2025-09-24T15:06:40.915739Z"
    }
   },
   "outputs": [
    {
     "data": {
      "text/html": [
       "<pre style=\"white-space:pre;overflow-x:auto;line-height:normal;font-family:Menlo,'DejaVu Sans Mono',consolas,'Courier New',monospace\"><span style=\"color: #808000; text-decoration-color: #808000\">╭───────── Basic Crawl Configuration ──────────╮</span>\n",
       "<span style=\"color: #808000; text-decoration-color: #808000\">│</span> 🎯 **Target**: https://python.langchain.com/ <span style=\"color: #808000; text-decoration-color: #808000\">│</span>\n",
       "<span style=\"color: #808000; text-decoration-color: #808000\">│</span> 📋 **Instructions**: None (baseline crawl)   <span style=\"color: #808000; text-decoration-color: #808000\">│</span>\n",
       "<span style=\"color: #808000; text-decoration-color: #808000\">╰──────────────────────────────────────────────╯</span>\n",
       "</pre>\n"
      ],
      "text/plain": [
       "\u001b[33m╭─\u001b[0m\u001b[33m────────\u001b[0m\u001b[33m Basic Crawl Configuration \u001b[0m\u001b[33m─────────\u001b[0m\u001b[33m─╮\u001b[0m\n",
       "\u001b[33m│\u001b[0m 🎯 **Target**: https://python.langchain.com/ \u001b[33m│\u001b[0m\n",
       "\u001b[33m│\u001b[0m 📋 **Instructions**: None (baseline crawl)   \u001b[33m│\u001b[0m\n",
       "\u001b[33m╰──────────────────────────────────────────────╯\u001b[0m\n"
      ]
     },
     "metadata": {},
     "output_type": "display_data"
    },
    {
     "data": {
      "text/html": [
       "<pre style=\"white-space:pre;overflow-x:auto;line-height:normal;font-family:Menlo,'DejaVu Sans Mono',consolas,'Courier New',monospace\"><span style=\"color: #808000; text-decoration-color: #808000; font-weight: bold\">🔄 Running TavilyCrawl without instructions...</span>\n",
       "</pre>\n"
      ],
      "text/plain": [
       "\u001b[1;33m🔄 Running TavilyCrawl without instructions\u001b[0m\u001b[1;33m...\u001b[0m\n"
      ]
     },
     "metadata": {},
     "output_type": "display_data"
    },
    {
     "data": {
      "text/html": [
       "<pre style=\"white-space:pre;overflow-x:auto;line-height:normal;font-family:Menlo,'DejaVu Sans Mono',consolas,'Courier New',monospace\"><span style=\"color: #008000; text-decoration-color: #008000; font-weight: bold\">✅ Basic crawl completed! Found </span><span style=\"color: #008080; text-decoration-color: #008080; font-weight: bold\">0</span><span style=\"color: #008000; text-decoration-color: #008000; font-weight: bold\"> pages</span>\n",
       "</pre>\n"
      ],
      "text/plain": [
       "\u001b[1;32m✅ Basic crawl completed! Found \u001b[0m\u001b[1;36m0\u001b[0m\u001b[1;32m pages\u001b[0m\n"
      ]
     },
     "metadata": {},
     "output_type": "display_data"
    },
    {
     "data": {
      "text/html": [
       "<pre style=\"white-space:pre;overflow-x:auto;line-height:normal;font-family:Menlo,'DejaVu Sans Mono',consolas,'Courier New',monospace\">\n",
       "<span style=\"color: #808000; text-decoration-color: #808000; font-weight: bold\">📊 **Without Instructions**: TavilyCrawl returned </span><span style=\"color: #008080; text-decoration-color: #008080; font-weight: bold\">0</span><span style=\"color: #808000; text-decoration-color: #808000; font-weight: bold\"> pages</span>\n",
       "</pre>\n"
      ],
      "text/plain": [
       "\n",
       "\u001b[1;33m📊 **Without Instructions**: TavilyCrawl returned \u001b[0m\u001b[1;36m0\u001b[0m\u001b[1;33m pages\u001b[0m\n"
      ]
     },
     "metadata": {},
     "output_type": "display_data"
    },
    {
     "data": {
      "text/html": [
       "<pre style=\"white-space:pre;overflow-x:auto;line-height:normal;font-family:Menlo,'DejaVu Sans Mono',consolas,'Courier New',monospace\">   📄 Mix of all content types <span style=\"font-weight: bold\">(</span>chains, prompts, agents, guides, etc.<span style=\"font-weight: bold\">)</span>\n",
       "</pre>\n"
      ],
      "text/plain": [
       "   📄 Mix of all content types \u001b[1m(\u001b[0mchains, prompts, agents, guides, etc.\u001b[1m)\u001b[0m\n"
      ]
     },
     "metadata": {},
     "output_type": "display_data"
    },
    {
     "data": {
      "text/html": [
       "<pre style=\"white-space:pre;overflow-x:auto;line-height:normal;font-family:Menlo,'DejaVu Sans Mono',consolas,'Courier New',monospace\">   🔍 No filtering - everything from the crawled sections\n",
       "</pre>\n"
      ],
      "text/plain": [
       "   🔍 No filtering - everything from the crawled sections\n"
      ]
     },
     "metadata": {},
     "output_type": "display_data"
    },
    {
     "data": {
      "text/html": [
       "<pre style=\"white-space:pre;overflow-x:auto;line-height:normal;font-family:Menlo,'DejaVu Sans Mono',consolas,'Courier New',monospace\">   ⚠️  Requires manual work to find what you actually need\n",
       "</pre>\n"
      ],
      "text/plain": [
       "   ⚠️  Requires manual work to find what you actually need\n"
      ]
     },
     "metadata": {},
     "output_type": "display_data"
    }
   ],
   "source": [
    "# Basic TavilyCrawl without instructions\n",
    "target_url = \"https://python.langchain.com/\"\n",
    "\n",
    "console.print(Panel.fit(\n",
    "    f\"🎯 **Target**: {target_url}\\n📋 **Instructions**: None (baseline crawl)\",\n",
    "    title=\"Basic Crawl Configuration\",\n",
    "    border_style=\"yellow\"\n",
    "))\n",
    "\n",
    "console.print(\"🔄 Running TavilyCrawl without instructions...\", style=\"bold yellow\")\n",
    "\n",
    "# Basic crawl without instructions\n",
    "basic_result = tavily_crawl.invoke({\n",
    "    \"url\": target_url,\n",
    "    \"max_depth\": 3,\n",
    "    \"extract_depth\": \"advanced\"\n",
    "})\n",
    "\n",
    "basic_results = basic_result.get(\"results\", [])\n",
    "console.print(f\"✅ Basic crawl completed! Found {len(basic_results)} pages\", style=\"bold green\")\n",
    "\n",
    "# Show what we got without instructions\n",
    "console.print(f\"\\n📊 **Without Instructions**: TavilyCrawl returned {len(basic_results)} pages\", style=\"bold yellow\")\n",
    "console.print(\"   📄 Mix of all content types (chains, prompts, agents, guides, etc.)\")\n",
    "console.print(\"   🔍 No filtering - everything from the crawled sections\")\n",
    "console.print(\"   ⚠️  Requires manual work to find what you actually need\")\n"
   ]
  },
  {
   "cell_type": "code",
   "execution_count": 27,
   "metadata": {
    "ExecuteTime": {
     "end_time": "2025-09-24T15:06:41.612979Z",
     "start_time": "2025-09-24T15:06:41.598474Z"
    }
   },
   "outputs": [
    {
     "data": {
      "text/html": [
       "<pre style=\"white-space:pre;overflow-x:auto;line-height:normal;font-family:Menlo,'DejaVu Sans Mono',consolas,'Courier New',monospace\">\n",
       "<span style=\"color: #808000; text-decoration-color: #808000; font-weight: bold\">📋 **Sample Results from Basic Crawl (no filtering):**</span>\n",
       "\n",
       "</pre>\n"
      ],
      "text/plain": [
       "\n",
       "\u001b[1;33m📋 **Sample Results from Basic Crawl \u001b[0m\u001b[1;33m(\u001b[0m\u001b[1;33mno filtering\u001b[0m\u001b[1;33m)\u001b[0m\u001b[1;33m:**\u001b[0m\n",
       "\n"
      ]
     },
     "metadata": {},
     "output_type": "display_data"
    },
    {
     "data": {
      "text/html": [
       "<pre style=\"white-space:pre;overflow-x:auto;line-height:normal;font-family:Menlo,'DejaVu Sans Mono',consolas,'Courier New',monospace\"><span style=\"color: #808000; text-decoration-color: #808000; font-style: italic\">... and </span><span style=\"color: #008080; text-decoration-color: #008080; font-weight: bold\">-3</span><span style=\"color: #808000; text-decoration-color: #808000; font-style: italic\"> more mixed results</span>\n",
       "</pre>\n"
      ],
      "text/plain": [
       "\u001b[3;33m...\u001b[0m\u001b[3;33m and \u001b[0m\u001b[1;36m-3\u001b[0m\u001b[3;33m more mixed results\u001b[0m\n"
      ]
     },
     "metadata": {},
     "output_type": "display_data"
    },
    {
     "data": {
      "text/html": [
       "<pre style=\"white-space:pre;overflow-x:auto;line-height:normal;font-family:Menlo,'DejaVu Sans Mono',consolas,'Courier New',monospace\"><span style=\"color: #808000; text-decoration-color: #808000; font-weight: bold\">🔍 **Notice**: These are mixed content types - not specifically about agents!</span>\n",
       "</pre>\n"
      ],
      "text/plain": [
       "\u001b[1;33m🔍 **Notice**: These are mixed content types - not specifically about agents!\u001b[0m\n"
      ]
     },
     "metadata": {},
     "output_type": "display_data"
    }
   ],
   "source": [
    "# Let's look at what the basic crawl found\n",
    "console.print(\"\\n📋 **Sample Results from Basic Crawl (no filtering):**\\n\", style=\"bold yellow\")\n",
    "\n",
    "for i, result in enumerate(basic_results[:3], 1):  # Show first 3 results\n",
    "    title = result.get(\"title\", \"Untitled\")\n",
    "    url = result.get(\"url\", \"No URL\")\n",
    "    content = result.get(\"raw_content\", \"No content\")[:150] + \"...\"\n",
    "    \n",
    "    panel_content = f\"\"\"\n",
    "🔗 **URL**: {url}\n",
    "\n",
    "📖 **Content Preview**:\n",
    "{content}\n",
    "    \"\"\".strip()\n",
    "    \n",
    "    console.print(Panel(\n",
    "        panel_content,\n",
    "        title=f\"📄 {i}. {title}\",\n",
    "        border_style=\"yellow\"\n",
    "    ))\n",
    "    print()\n",
    "\n",
    "console.print(f\"... and {len(basic_results) - 3} more mixed results\", style=\"italic yellow\")\n",
    "console.print(\"🔍 **Notice**: These are mixed content types - not specifically about agents!\", style=\"bold yellow\")\n"
   ]
  },
  {
   "cell_type": "raw",
   "metadata": {
    "vscode": {
     "languageId": "raw"
    }
   },
   "source": [
    "## 🎯 Demo 2: TavilyCrawl WITH Instructions - The Magic!\n",
    "\n",
    "Now let's see the real power of TavilyCrawl! By adding simple instructions, we can get exactly what we need without any manual filtering.\n",
    "\n",
    "### The Problem We Just Saw:\n",
    "- Demo 1 returned everything (all content types mixed together)\n",
    "- We'd need to manually filter through all results\n",
    "- No way to target specific content\n",
    "\n",
    "### The TavilyCrawl Solution:\n",
    "- Add simple natural language instructions\n",
    "- Let AI do the intelligent filtering\n",
    "- Get exactly what we need automatically!\n"
   ]
  },
  {
   "cell_type": "code",
   "execution_count": 28,
   "metadata": {
    "ExecuteTime": {
     "end_time": "2025-09-24T15:06:41.649889Z",
     "start_time": "2025-09-24T15:06:41.645292Z"
    }
   },
   "outputs": [
    {
     "data": {
      "text/html": [
       "<pre style=\"white-space:pre;overflow-x:auto;line-height:normal;font-family:Menlo,'DejaVu Sans Mono',consolas,'Courier New',monospace\"><span style=\"color: #008000; text-decoration-color: #008000\">╭──────────────────────────── Intelligent Crawl Configuration ────────────────────────────╮</span>\n",
       "<span style=\"color: #008000; text-decoration-color: #008000\">│</span> 🎯 **Target**: https://python.langchain.com/ (same as Demo 1)                           <span style=\"color: #008000; text-decoration-color: #008000\">│</span>\n",
       "<span style=\"color: #008000; text-decoration-color: #008000\">│</span> 📋 **Instructions**: Find and extract content from pages specifically related to agents <span style=\"color: #008000; text-decoration-color: #008000\">│</span>\n",
       "<span style=\"color: #008000; text-decoration-color: #008000\">╰─────────────────────────────────────────────────────────────────────────────────────────╯</span>\n",
       "</pre>\n"
      ],
      "text/plain": [
       "\u001b[32m╭─\u001b[0m\u001b[32m───────────────────────────\u001b[0m\u001b[32m Intelligent Crawl Configuration \u001b[0m\u001b[32m───────────────────────────\u001b[0m\u001b[32m─╮\u001b[0m\n",
       "\u001b[32m│\u001b[0m 🎯 **Target**: https://python.langchain.com/ (same as Demo 1)                           \u001b[32m│\u001b[0m\n",
       "\u001b[32m│\u001b[0m 📋 **Instructions**: Find and extract content from pages specifically related to agents \u001b[32m│\u001b[0m\n",
       "\u001b[32m╰─────────────────────────────────────────────────────────────────────────────────────────╯\u001b[0m\n"
      ]
     },
     "metadata": {},
     "output_type": "display_data"
    }
   ],
   "source": [
    "# Now let's add intelligent instructions to the same target\n",
    "instructions = \"Find and extract content from pages specifically related to agents\"\n",
    "\n",
    "console.print(Panel.fit(\n",
    "    f\"🎯 **Target**: {target_url} (same as Demo 1)\\n📋 **Instructions**: {instructions}\",\n",
    "    title=\"Intelligent Crawl Configuration\", \n",
    "    border_style=\"green\"\n",
    "))\n"
   ]
  },
  {
   "cell_type": "code",
   "execution_count": 29,
   "metadata": {
    "ExecuteTime": {
     "end_time": "2025-09-24T15:06:43.351720Z",
     "start_time": "2025-09-24T15:06:41.681196Z"
    }
   },
   "outputs": [
    {
     "data": {
      "text/html": [
       "<pre style=\"white-space:pre;overflow-x:auto;line-height:normal;font-family:Menlo,'DejaVu Sans Mono',consolas,'Courier New',monospace\"><span style=\"color: #000080; text-decoration-color: #000080; font-weight: bold\">🚀 Starting intelligent crawl with instructions</span><span style=\"color: #808000; text-decoration-color: #808000; font-weight: bold\">...</span>\n",
       "</pre>\n"
      ],
      "text/plain": [
       "\u001b[1;34m🚀 Starting intelligent crawl with instructions\u001b[0m\u001b[1;33m...\u001b[0m\n"
      ]
     },
     "metadata": {},
     "output_type": "display_data"
    },
    {
     "data": {
      "text/html": [
       "<pre style=\"white-space:pre;overflow-x:auto;line-height:normal;font-family:Menlo,'DejaVu Sans Mono',consolas,'Courier New',monospace\"><span style=\"font-style: italic\">Watch how instructions transform the results!</span>\n",
       "</pre>\n"
      ],
      "text/plain": [
       "\u001b[3mWatch how instructions transform the results!\u001b[0m\n"
      ]
     },
     "metadata": {},
     "output_type": "display_data"
    },
    {
     "data": {
      "text/html": [
       "<pre style=\"white-space:pre;overflow-x:auto;line-height:normal;font-family:Menlo,'DejaVu Sans Mono',consolas,'Courier New',monospace\"><span style=\"color: #008000; text-decoration-color: #008000; font-weight: bold\">✅ Intelligent crawl completed successfully!</span>\n",
       "</pre>\n"
      ],
      "text/plain": [
       "\u001b[1;32m✅ Intelligent crawl completed successfully!\u001b[0m\n"
      ]
     },
     "metadata": {},
     "output_type": "display_data"
    },
    {
     "data": {
      "text/html": [
       "<pre style=\"white-space:pre;overflow-x:auto;line-height:normal;font-family:Menlo,'DejaVu Sans Mono',consolas,'Courier New',monospace\">\n",
       "<span style=\"color: #000080; text-decoration-color: #000080; font-weight: bold\">🎯 **The Magic of Instructions:**</span>\n",
       "</pre>\n"
      ],
      "text/plain": [
       "\n",
       "\u001b[1;34m🎯 **The Magic of Instructions:**\u001b[0m\n"
      ]
     },
     "metadata": {},
     "output_type": "display_data"
    },
    {
     "data": {
      "text/html": [
       "<pre style=\"white-space:pre;overflow-x:auto;line-height:normal;font-family:Menlo,'DejaVu Sans Mono',consolas,'Courier New',monospace\">   📊 Demo <span style=\"color: #008080; text-decoration-color: #008080; font-weight: bold\">1</span> <span style=\"font-weight: bold\">(</span>no instructions<span style=\"font-weight: bold\">)</span>: <span style=\"color: #008080; text-decoration-color: #008080; font-weight: bold\">0</span> mixed pages\n",
       "</pre>\n"
      ],
      "text/plain": [
       "   📊 Demo \u001b[1;36m1\u001b[0m \u001b[1m(\u001b[0mno instructions\u001b[1m)\u001b[0m: \u001b[1;36m0\u001b[0m mixed pages\n"
      ]
     },
     "metadata": {},
     "output_type": "display_data"
    },
    {
     "data": {
      "text/html": [
       "<pre style=\"white-space:pre;overflow-x:auto;line-height:normal;font-family:Menlo,'DejaVu Sans Mono',consolas,'Courier New',monospace\">   🎯 Demo <span style=\"color: #008080; text-decoration-color: #008080; font-weight: bold\">2</span> <span style=\"font-weight: bold\">(</span>with instructions<span style=\"font-weight: bold\">)</span>: <span style=\"color: #008080; text-decoration-color: #008080; font-weight: bold\">0</span> targeted agent pages\n",
       "</pre>\n"
      ],
      "text/plain": [
       "   🎯 Demo \u001b[1;36m2\u001b[0m \u001b[1m(\u001b[0mwith instructions\u001b[1m)\u001b[0m: \u001b[1;36m0\u001b[0m targeted agent pages\n"
      ]
     },
     "metadata": {},
     "output_type": "display_data"
    },
    {
     "data": {
      "text/html": [
       "<pre style=\"white-space:pre;overflow-x:auto;line-height:normal;font-family:Menlo,'DejaVu Sans Mono',consolas,'Courier New',monospace\"><span style=\"color: #008000; text-decoration-color: #008000; font-weight: bold\">   ⚡ **Intelligent filtering eliminated </span><span style=\"color: #008080; text-decoration-color: #008080; font-weight: bold\">0</span><span style=\"color: #008000; text-decoration-color: #008000; font-weight: bold\"> irrelevant pages!**</span>\n",
       "</pre>\n"
      ],
      "text/plain": [
       "\u001b[1;32m   ⚡ **Intelligent filtering eliminated \u001b[0m\u001b[1;36m0\u001b[0m\u001b[1;32m irrelevant pages!**\u001b[0m\n"
      ]
     },
     "metadata": {},
     "output_type": "display_data"
    }
   ],
   "source": [
    "# Execute the intelligent crawl - this demonstrates TavilyCrawl's power!\n",
    "console.print(\"🚀 Starting intelligent crawl with instructions...\", style=\"bold blue\")\n",
    "console.print(\"Watch how instructions transform the results!\", style=\"italic\")\n",
    "\n",
    "# Use TavilyCrawl with instructions\n",
    "crawl_result = tavily_crawl.invoke({\n",
    "    \"url\": target_url,\n",
    "    \"instructions\": instructions,\n",
    "    \"max_depth\": 3,\n",
    "    \"extract_depth\": \"advanced\"\n",
    "})\n",
    "\n",
    "console.print(\"✅ Intelligent crawl completed successfully!\", style=\"bold green\")\n",
    "\n",
    "# Show the power of intelligent filtering\n",
    "results = crawl_result.get(\"results\", [])\n",
    "\n",
    "# Compare with previous demo\n",
    "console.print(f\"\\n🎯 **The Magic of Instructions:**\", style=\"bold blue\")\n",
    "console.print(f\"   📊 Demo 1 (no instructions): {len(basic_results)} mixed pages\")\n",
    "console.print(f\"   🎯 Demo 2 (with instructions): {len(results)} targeted agent pages\")\n",
    "console.print(f\"   ⚡ **Intelligent filtering eliminated {len(basic_results) - len(results)} irrelevant pages!**\", style=\"bold green\")\n"
   ]
  },
  {
   "cell_type": "code",
   "execution_count": 30,
   "metadata": {
    "ExecuteTime": {
     "end_time": "2025-09-24T15:06:43.420621Z",
     "start_time": "2025-09-24T15:06:43.405199Z"
    }
   },
   "outputs": [
    {
     "data": {
      "text/html": [
       "<pre style=\"white-space:pre;overflow-x:auto;line-height:normal;font-family:Menlo,'DejaVu Sans Mono',consolas,'Courier New',monospace\">\n",
       "<span style=\"color: #008000; text-decoration-color: #008000; font-weight: bold\">🎯 **LangChain Agent Documentation Found by TavilyCrawl:**</span>\n",
       "\n",
       "</pre>\n"
      ],
      "text/plain": [
       "\n",
       "\u001b[1;32m🎯 **LangChain Agent Documentation Found by TavilyCrawl:**\u001b[0m\n",
       "\n"
      ]
     },
     "metadata": {},
     "output_type": "display_data"
    },
    {
     "data": {
      "text/html": [
       "<pre style=\"white-space:pre;overflow-x:auto;line-height:normal;font-family:Menlo,'DejaVu Sans Mono',consolas,'Courier New',monospace\"><span style=\"font-style: italic\">                                     ⚡ Crawling Approaches Comparison                                     </span>\n",
       "┏━━━━━━━━━━━━━━━━━━━━━┳━━━━━━━━━━━━━━━┳━━━━━━━━━━━━━━━━━━━━━━━━━━━━━┳━━━━━━━━━━━━━┳━━━━━━━━━━━━━━━━━━━━━━━┓\n",
       "┃<span style=\"font-weight: bold\"> Approach            </span>┃<span style=\"font-weight: bold\"> Time Required </span>┃<span style=\"font-weight: bold\"> Expertise Needed            </span>┃<span style=\"font-weight: bold\"> Flexibility </span>┃<span style=\"font-weight: bold\"> Precision             </span>┃\n",
       "┡━━━━━━━━━━━━━━━━━━━━━╇━━━━━━━━━━━━━━━╇━━━━━━━━━━━━━━━━━━━━━━━━━━━━━╇━━━━━━━━━━━━━╇━━━━━━━━━━━━━━━━━━━━━━━┩\n",
       "│<span style=\"color: #008080; text-decoration-color: #008080\"> Manual Crawling     </span>│<span style=\"color: #808000; text-decoration-color: #808000\"> 3-5 hours     </span>│<span style=\"color: #800000; text-decoration-color: #800000\"> High (coding, filtering)    </span>│<span style=\"color: #000080; text-decoration-color: #000080\"> Low         </span>│<span style=\"color: #008000; text-decoration-color: #008000\"> Variable              </span>│\n",
       "│<span style=\"color: #008080; text-decoration-color: #008080\"> TavilyMap + Extract </span>│<span style=\"color: #808000; text-decoration-color: #808000\"> 30-60 minutes </span>│<span style=\"color: #800000; text-decoration-color: #800000\"> High (caveats, complexity)  </span>│<span style=\"color: #000080; text-decoration-color: #000080\"> High        </span>│<span style=\"color: #008000; text-decoration-color: #008000\"> Good (with expertise) </span>│\n",
       "│<span style=\"color: #008080; text-decoration-color: #008080\"> 🤖 TavilyCrawl      </span>│<span style=\"color: #808000; text-decoration-color: #808000\"> 2-5 minutes   </span>│<span style=\"color: #800000; text-decoration-color: #800000\"> Minimal (just instructions) </span>│<span style=\"color: #000080; text-decoration-color: #000080\"> High        </span>│<span style=\"color: #008000; text-decoration-color: #008000\"> High (AI-powered)     </span>│\n",
       "└─────────────────────┴───────────────┴─────────────────────────────┴─────────────┴───────────────────────┘\n",
       "</pre>\n"
      ],
      "text/plain": [
       "\u001b[3m                                     ⚡ Crawling Approaches Comparison                                     \u001b[0m\n",
       "┏━━━━━━━━━━━━━━━━━━━━━┳━━━━━━━━━━━━━━━┳━━━━━━━━━━━━━━━━━━━━━━━━━━━━━┳━━━━━━━━━━━━━┳━━━━━━━━━━━━━━━━━━━━━━━┓\n",
       "┃\u001b[1m \u001b[0m\u001b[1mApproach           \u001b[0m\u001b[1m \u001b[0m┃\u001b[1m \u001b[0m\u001b[1mTime Required\u001b[0m\u001b[1m \u001b[0m┃\u001b[1m \u001b[0m\u001b[1mExpertise Needed           \u001b[0m\u001b[1m \u001b[0m┃\u001b[1m \u001b[0m\u001b[1mFlexibility\u001b[0m\u001b[1m \u001b[0m┃\u001b[1m \u001b[0m\u001b[1mPrecision            \u001b[0m\u001b[1m \u001b[0m┃\n",
       "┡━━━━━━━━━━━━━━━━━━━━━╇━━━━━━━━━━━━━━━╇━━━━━━━━━━━━━━━━━━━━━━━━━━━━━╇━━━━━━━━━━━━━╇━━━━━━━━━━━━━━━━━━━━━━━┩\n",
       "│\u001b[36m \u001b[0m\u001b[36mManual Crawling    \u001b[0m\u001b[36m \u001b[0m│\u001b[33m \u001b[0m\u001b[33m3-5 hours    \u001b[0m\u001b[33m \u001b[0m│\u001b[31m \u001b[0m\u001b[31mHigh (coding, filtering)   \u001b[0m\u001b[31m \u001b[0m│\u001b[34m \u001b[0m\u001b[34mLow        \u001b[0m\u001b[34m \u001b[0m│\u001b[32m \u001b[0m\u001b[32mVariable             \u001b[0m\u001b[32m \u001b[0m│\n",
       "│\u001b[36m \u001b[0m\u001b[36mTavilyMap + Extract\u001b[0m\u001b[36m \u001b[0m│\u001b[33m \u001b[0m\u001b[33m30-60 minutes\u001b[0m\u001b[33m \u001b[0m│\u001b[31m \u001b[0m\u001b[31mHigh (caveats, complexity) \u001b[0m\u001b[31m \u001b[0m│\u001b[34m \u001b[0m\u001b[34mHigh       \u001b[0m\u001b[34m \u001b[0m│\u001b[32m \u001b[0m\u001b[32mGood (with expertise)\u001b[0m\u001b[32m \u001b[0m│\n",
       "│\u001b[36m \u001b[0m\u001b[36m🤖 TavilyCrawl     \u001b[0m\u001b[36m \u001b[0m│\u001b[33m \u001b[0m\u001b[33m2-5 minutes  \u001b[0m\u001b[33m \u001b[0m│\u001b[31m \u001b[0m\u001b[31mMinimal (just instructions)\u001b[0m\u001b[31m \u001b[0m│\u001b[34m \u001b[0m\u001b[34mHigh       \u001b[0m\u001b[34m \u001b[0m│\u001b[32m \u001b[0m\u001b[32mHigh (AI-powered)    \u001b[0m\u001b[32m \u001b[0m│\n",
       "└─────────────────────┴───────────────┴─────────────────────────────┴─────────────┴───────────────────────┘\n"
      ]
     },
     "metadata": {},
     "output_type": "display_data"
    },
    {
     "data": {
      "text/html": [
       "<pre style=\"white-space:pre;overflow-x:auto;line-height:normal;font-family:Menlo,'DejaVu Sans Mono',consolas,'Courier New',monospace\">\n",
       "<span style=\"color: #800080; text-decoration-color: #800080; font-weight: bold\">🎉 **Why TavilyCrawl is the Best of Both Worlds:**</span>\n",
       "</pre>\n"
      ],
      "text/plain": [
       "\n",
       "\u001b[1;35m🎉 **Why TavilyCrawl is the Best of Both Worlds:**\u001b[0m\n"
      ]
     },
     "metadata": {},
     "output_type": "display_data"
    },
    {
     "data": {
      "text/html": [
       "<pre style=\"white-space:pre;overflow-x:auto;line-height:normal;font-family:Menlo,'DejaVu Sans Mono',consolas,'Courier New',monospace\">   🚀 **Speed**: <span style=\"color: #008080; text-decoration-color: #008080; font-weight: bold\">60</span>-10<span style=\"color: #008080; text-decoration-color: #008080; font-weight: bold\">0x</span> faster than manual crawling\n",
       "</pre>\n"
      ],
      "text/plain": [
       "   🚀 **Speed**: \u001b[1;36m60\u001b[0m-10\u001b[1;36m0x\u001b[0m faster than manual crawling\n"
      ]
     },
     "metadata": {},
     "output_type": "display_data"
    },
    {
     "data": {
      "text/html": [
       "<pre style=\"white-space:pre;overflow-x:auto;line-height:normal;font-family:Menlo,'DejaVu Sans Mono',consolas,'Courier New',monospace\">   🧠 **Simplicity**: No expertise needed - just natural language instructions\n",
       "</pre>\n"
      ],
      "text/plain": [
       "   🧠 **Simplicity**: No expertise needed - just natural language instructions\n"
      ]
     },
     "metadata": {},
     "output_type": "display_data"
    },
    {
     "data": {
      "text/html": [
       "<pre style=\"white-space:pre;overflow-x:auto;line-height:normal;font-family:Menlo,'DejaVu Sans Mono',consolas,'Courier New',monospace\">   🎯 **Flexibility**: High flexibility without the complexity of Map+Extract\n",
       "</pre>\n"
      ],
      "text/plain": [
       "   🎯 **Flexibility**: High flexibility without the complexity of Map+Extract\n"
      ]
     },
     "metadata": {},
     "output_type": "display_data"
    },
    {
     "data": {
      "text/html": [
       "<pre style=\"white-space:pre;overflow-x:auto;line-height:normal;font-family:Menlo,'DejaVu Sans Mono',consolas,'Courier New',monospace\">   ⚡ **Precision**: AI-powered filtering with no caveats or manual work\n",
       "</pre>\n"
      ],
      "text/plain": [
       "   ⚡ **Precision**: AI-powered filtering with no caveats or manual work\n"
      ]
     },
     "metadata": {},
     "output_type": "display_data"
    },
    {
     "data": {
      "text/html": [
       "<pre style=\"white-space:pre;overflow-x:auto;line-height:normal;font-family:Menlo,'DejaVu Sans Mono',consolas,'Courier New',monospace\">   🔧 **Ready-to-Use**: Immediate integration into your applications\n",
       "</pre>\n"
      ],
      "text/plain": [
       "   🔧 **Ready-to-Use**: Immediate integration into your applications\n"
      ]
     },
     "metadata": {},
     "output_type": "display_data"
    },
    {
     "data": {
      "text/html": [
       "<pre style=\"white-space:pre;overflow-x:auto;line-height:normal;font-family:Menlo,'DejaVu Sans Mono',consolas,'Courier New',monospace\">\n",
       "<span style=\"color: #000080; text-decoration-color: #000080; font-weight: bold\">💡 **TavilyCrawl = TavilyMap + TavilyExtract + AI Intelligence - Complexity!**</span>\n",
       "</pre>\n"
      ],
      "text/plain": [
       "\n",
       "\u001b[1;34m💡 **TavilyCrawl = TavilyMap + TavilyExtract + AI Intelligence - Complexity!**\u001b[0m\n"
      ]
     },
     "metadata": {},
     "output_type": "display_data"
    }
   ],
   "source": [
    "# Display the agent documentation TavilyCrawl found\n",
    "console.print(\"\\n🎯 **LangChain Agent Documentation Found by TavilyCrawl:**\\n\", style=\"bold green\")\n",
    "\n",
    "for i, result in enumerate(results, 1):\n",
    "    title = result.get(\"title\", \"Untitled\")\n",
    "    url = result.get(\"url\", \"No URL\")\n",
    "    content = result.get(\"raw_content\", \"No content\")[:200] + \"...\"\n",
    "    \n",
    "    panel_content = f\"\"\"\n",
    "🔗 **URL**: {url}\n",
    "\n",
    "📖 **Content Preview**:\n",
    "{content}\n",
    "    \"\"\".strip()\n",
    "    \n",
    "    console.print(Panel(\n",
    "        panel_content,\n",
    "        title=f\"📑 {i}. {title}\",\n",
    "        border_style=\"green\"\n",
    "    ))\n",
    "    print()\n",
    "\n",
    "# Show the comparison table\n",
    "comparison_table = Table(title=\"⚡ Crawling Approaches Comparison\")\n",
    "comparison_table.add_column(\"Approach\", style=\"cyan\", no_wrap=True)\n",
    "comparison_table.add_column(\"Time Required\", style=\"yellow\")\n",
    "comparison_table.add_column(\"Expertise Needed\", style=\"red\")\n",
    "comparison_table.add_column(\"Flexibility\", style=\"blue\")\n",
    "comparison_table.add_column(\"Precision\", style=\"green\")\n",
    "\n",
    "comparison_table.add_row(\n",
    "    \"Manual Crawling\",\n",
    "    \"3-5 hours\",\n",
    "    \"High (coding, filtering)\",\n",
    "    \"Low\",\n",
    "    \"Variable\"\n",
    ")\n",
    "\n",
    "comparison_table.add_row(\n",
    "    \"TavilyMap + Extract\",\n",
    "    \"30-60 minutes\",\n",
    "    \"High (caveats, complexity)\",\n",
    "    \"High\",\n",
    "    \"Good (with expertise)\"\n",
    ")\n",
    "\n",
    "comparison_table.add_row(\n",
    "    \"🤖 TavilyCrawl\",\n",
    "    \"2-5 minutes\",\n",
    "    \"Minimal (just instructions)\",\n",
    "    \"High\",\n",
    "    \"High (AI-powered)\"\n",
    ")\n",
    "\n",
    "console.print(comparison_table)\n",
    "\n",
    "console.print(\"\\n🎉 **Why TavilyCrawl is the Best of Both Worlds:**\", style=\"bold magenta\")\n",
    "console.print(\"   🚀 **Speed**: 60-100x faster than manual crawling\")\n",
    "console.print(\"   🧠 **Simplicity**: No expertise needed - just natural language instructions\")\n",
    "console.print(\"   🎯 **Flexibility**: High flexibility without the complexity of Map+Extract\")\n",
    "console.print(\"   ⚡ **Precision**: AI-powered filtering with no caveats or manual work\")\n",
    "console.print(\"   🔧 **Ready-to-Use**: Immediate integration into your applications\")\n",
    "\n",
    "console.print(\"\\n💡 **TavilyCrawl = TavilyMap + TavilyExtract + AI Intelligence - Complexity!**\", style=\"bold blue\")\n"
   ]
  },
  {
   "cell_type": "raw",
   "metadata": {
    "vscode": {
     "languageId": "raw"
    }
   },
   "source": [
    "## 🎉 Conclusion: TavilyCrawl - The Best of Both Worlds\n",
    "\n",
    "This tutorial demonstrated how **TavilyCrawl** combines the flexibility of TavilyMap + TavilyExtract with the simplicity of natural language instructions:\n",
    "\n",
    "### 🧠 **The Evolution of Web Crawling**:\n",
    "\n",
    "1. **Manual Crawling**: Slow, requires coding expertise, variable results\n",
    "2. **TavilyMap + TavilyExtract**: Powerful but complex, lots of caveats, needs expertise\n",
    "3. **🤖 TavilyCrawl**: **Best of both worlds** - flexible, intelligent, and simple!\n",
    "\n",
    "### 🚀 **Why TavilyCrawl Wins**:\n",
    "\n",
    "- **🎯 Combines Power & Simplicity**: All the flexibility without the complexity\n",
    "- **🧠 Natural Language Instructions**: No need to learn APIs or handle caveats\n",
    "- **⚡ Instant Intelligence**: AI does the heavy lifting automatically\n",
    "- **🔧 Zero Expertise Required**: Just describe what you want in plain English\n",
    "- **📈 Production Ready**: Immediate integration with consistent results\n",
    "\n",
    "### 🎯 **Perfect For**:\n",
    "\n",
    "- Building intelligent RAG systems without crawling expertise\n",
    "- Rapid prototyping of documentation discovery systems\n",
    "- Production applications that need reliable, filtered content\n",
    "- Anyone who wants TavilyMap + TavilyExtract power without the complexity\n",
    "\n",
    "---\n",
    "\n",
    "**TavilyCrawl = TavilyMap + TavilyExtract + AI Intelligence - All the Complexity!** 🤖✨\n"
   ]
  },
  {
   "cell_type": "code",
   "execution_count": null,
   "metadata": {},
   "outputs": [],
   "source": []
  }
 ],
 "metadata": {
  "kernelspec": {
   "display_name": "Python 3 (ipykernel)",
   "language": "python",
   "name": "python3"
  },
  "language_info": {
   "codemirror_mode": {
    "name": "ipython",
    "version": 3
   },
   "file_extension": ".py",
   "mimetype": "text/x-python",
   "name": "python",
   "nbconvert_exporter": "python",
   "pygments_lexer": "ipython3",
   "version": "3.13.7"
  }
 },
 "nbformat": 4,
 "nbformat_minor": 4
}
